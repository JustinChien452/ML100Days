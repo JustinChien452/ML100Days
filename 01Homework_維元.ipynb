{
 "cells": [
  {
   "cell_type": "markdown",
   "metadata": {
    "id": "P6xk2_jLsvFF"
   },
   "source": [
    "# [作業目標]\n",
    "\n",
    "1. [簡答題] 請問下列兩種將 Array 轉換成 List 的方式有何不同？\n",
    "\n",
    "```\n",
    "print('list(a): ', list(a))\n",
    "print('tolist(): ', a.tolist())\n",
    "```\n",
    "\n",
    "2. 請試著在程式中印出以下三個 NdArray 的屬性？（屬性：ndim、shape、size、dtype、itemsize、length、type）\n",
    "\n",
    "```\n",
    "a = np.random.randint(10, size=6) \n",
    "b = np.random.randint(10, size=(3,4)) \n",
    "c = np.random.randint(10, size=(2,3,2)) \n",
    "```\n",
    "\n",
    "3. 如何利用 list(...) 實現 a.tolist() 的效果？試著用程式實作。\n"
   ]
  },
  {
   "cell_type": "markdown",
   "metadata": {
    "id": "uXGll28asvFS"
   },
   "source": [
    "# 作業 "
   ]
  },
  {
   "cell_type": "markdown",
   "metadata": {
    "id": "SYkvkp9YLwB7"
   },
   "source": [
    "### 1. [簡答題] 請問下列兩種將 Array 轉換成 List 的方式有何不同？\n",
    "\n",
    "```\n",
    "print('list(a): ', list(a))\n",
    "print('tolist(): ', a.tolist())\n",
    "```\n"
   ]
  },
  {
   "cell_type": "code",
   "execution_count": 442,
   "metadata": {},
   "outputs": [
    {
     "name": "stdout",
     "output_type": "stream",
     "text": [
      "<module 'numpy' from 'C:\\\\Users\\\\Justin\\\\anaconda3\\\\lib\\\\site-packages\\\\numpy\\\\__init__.py'>\n",
      "1.19.2\n"
     ]
    }
   ],
   "source": [
    "# 載入 NumPy 套件\n",
    "import numpy as np\n",
    "\n",
    "# 檢查正確載入與版本\n",
    "print(np)\n",
    "print(np.__version__)\n"
   ]
  },
  {
   "cell_type": "code",
   "execution_count": 443,
   "metadata": {},
   "outputs": [
    {
     "name": "stdout",
     "output_type": "stream",
     "text": [
      "[[ 0  1  2  3  4]\n",
      " [ 5  6  7  8  9]\n",
      " [10 11 12 13 14]]\n"
     ]
    },
    {
     "data": {
      "text/plain": [
       "array([[ 0,  1,  2,  3,  4],\n",
       "       [ 5,  6,  7,  8,  9],\n",
       "       [10, 11, 12, 13, 14]])"
      ]
     },
     "execution_count": 443,
     "metadata": {},
     "output_type": "execute_result"
    }
   ],
   "source": [
    "# 從一個陣列開始\n",
    "\n",
    "a = np.arange(15).reshape(3, 5)\n",
    "print(a) # 利用 print(...) 印出陣列\n",
    "a # 利用 Jupyter 印出陣列"
   ]
  },
  {
   "cell_type": "code",
   "execution_count": 444,
   "metadata": {},
   "outputs": [
    {
     "name": "stdout",
     "output_type": "stream",
     "text": [
      "ndim:  2\n",
      "shape:  (3, 5)\n",
      "size:  15\n",
      "dtype:  int32\n",
      "itemsize:  4\n",
      "data:  <memory at 0x0000016C588DDBA0>\n"
     ]
    },
    {
     "data": {
      "text/plain": [
       "'\\nndarray.ndim： 陣列有多少維度\\nndarray.shape： 每個維度的大小\\nndarray.size： 陣列當中有幾個元素\\nndarray.dtype： 陣列中的資料型態\\nndarray.itemsize： 陣列中每個元素佔用的空間\\nndarray.data： 陣列所存在的記憶體位置'"
      ]
     },
     "execution_count": 444,
     "metadata": {},
     "output_type": "execute_result"
    }
   ],
   "source": [
    "# 陣列的常用屬性\n",
    "\n",
    "print('ndim: ', a.ndim)\n",
    "print('shape: ', a.shape)\n",
    "print('size: ', a.size)\n",
    "print('dtype: ', a.dtype)\n",
    "print('itemsize: ', a.itemsize)\n",
    "print('data: ', a.data)\n",
    "'''\n",
    "ndarray.ndim： 陣列有多少維度\n",
    "ndarray.shape： 每個維度的大小\n",
    "ndarray.size： 陣列當中有幾個元素\n",
    "ndarray.dtype： 陣列中的資料型態\n",
    "ndarray.itemsize： 陣列中每個元素佔用的空間\n",
    "ndarray.data： 陣列所存在的記憶體位置'''"
   ]
  },
  {
   "cell_type": "code",
   "execution_count": 445,
   "metadata": {
    "id": "5QrYoyNWsvFS",
    "outputId": "13f374d0-6f1b-47aa-bbac-c7d1a8c6995c"
   },
   "outputs": [
    {
     "name": "stdout",
     "output_type": "stream",
     "text": [
      "list(a):  [array([0, 1, 2, 3, 4]), array([5, 6, 7, 8, 9]), array([10, 11, 12, 13, 14])]\n",
      "a.tolist():  [[0, 1, 2, 3, 4], [5, 6, 7, 8, 9], [10, 11, 12, 13, 14]]\n",
      "[[ 0  1  2  3  4  5  6  7  8  9 10 11 12 13 14]]\n",
      "list(b):  [array([ 0,  1,  2,  3,  4,  5,  6,  7,  8,  9, 10, 11, 12, 13, 14])]\n",
      "b.tolist():  [[0, 1, 2, 3, 4, 5, 6, 7, 8, 9, 10, 11, 12, 13, 14]]\n",
      "list()：只有第一層轉成list，第二層還是維持array\n",
      ".list()方法：每一層都轉成list\n"
     ]
    }
   ],
   "source": [
    "'''\n",
    "Your Code\n",
    "'''\n",
    "print('list(a): ', list(a))\n",
    "print('a.tolist(): ', a.tolist())\n",
    "\n",
    "# 從一個陣列開始\n",
    "b = np.arange(15).reshape(1, 15)\n",
    "print(b) # 利用 print(...) 印出陣列\n",
    "\n",
    "print('list(b): ', list(b))\n",
    "print('b.tolist(): ', b.tolist())\n",
    "\n",
    "print(\"list()：只有第一層轉成list，第二層還是維持array\")\n",
    "print(\".list()方法：每一層都轉成list\")"
   ]
  },
  {
   "cell_type": "markdown",
   "metadata": {
    "id": "AC9wUCyALwB9"
   },
   "source": [
    "### 2. 請試著在程式中印出以下三個 NdArray 的屬性並且解釋結果？（屬性：ndim、shape、size、dtype、itemsize、length、type）\n",
    "\n",
    "```\n",
    "a = np.random.randint(10, size=6) \n",
    "b = np.random.randint(10, size=(3,4)) \n",
    "c = np.random.randint(10, size=(2,3,2)) \n",
    "```"
   ]
  },
  {
   "cell_type": "code",
   "execution_count": 446,
   "metadata": {
    "id": "4qARRsdtLwB-"
   },
   "outputs": [],
   "source": [
    "# 記得先 Import 正確的套件\n",
    "# 載入 NumPy 套件\n",
    "'''\n",
    "Your Code\n",
    "'''\n",
    "import numpy as np\n"
   ]
  },
  {
   "cell_type": "code",
   "execution_count": 447,
   "metadata": {
    "id": "e1gVI0tvsvFY",
    "outputId": "9be10770-9042-40c8-c4bc-217b84be9fc9"
   },
   "outputs": [
    {
     "name": "stdout",
     "output_type": "stream",
     "text": [
      "ndim:  1\n",
      "shape:  (6,)\n",
      "size:  6\n",
      "dtype:  int32\n",
      "itemsize:  4\n",
      "data:  <memory at 0x0000016C58A3AE80>\n",
      "length:  6\n",
      "type:  <class 'numpy.ndarray'>\n",
      "type(a.tolist()):  <class 'list'>\n",
      "type(list(a)) <class 'list'>\n"
     ]
    }
   ],
   "source": [
    "a = np.random.randint(10, size=6) \n",
    "'''\n",
    "Your Code\n",
    "'''\n",
    "print('ndim: ', a.ndim)\n",
    "print('shape: ', a.shape)\n",
    "print('size: ', a.size)\n",
    "print('dtype: ', a.dtype)\n",
    "print('itemsize: ', a.itemsize)\n",
    "print('data: ', a.data)\n",
    "print('length: ', len(a.tolist()))\n",
    "print('type: ', type(b))\n",
    "print('type(a.tolist()): ', type(a.tolist()))\n",
    "print('type(list(a))', type(list(a)))\n"
   ]
  },
  {
   "cell_type": "code",
   "execution_count": 448,
   "metadata": {
    "id": "iIJrIr7kLwB_",
    "outputId": "083c5519-394c-404e-9764-100c4ed5118a"
   },
   "outputs": [
    {
     "name": "stdout",
     "output_type": "stream",
     "text": [
      "ndim:  2\n",
      "shape:  (3, 4)\n",
      "size:  12\n",
      "dtype:  int32\n",
      "itemsize:  4\n",
      "data:  <memory at 0x0000016C588DDBA0>\n",
      "length:  3\n",
      "type:  <class 'numpy.ndarray'>\n",
      "type(b.tolist()):  <class 'list'>\n",
      "type(list(b)) <class 'list'>\n"
     ]
    }
   ],
   "source": [
    "b = np.random.randint(10, size=(3,4)) \n",
    "\n",
    "'''\n",
    "Your Code\n",
    "'''\n",
    "print('ndim: ', b.ndim)\n",
    "print('shape: ', b.shape)\n",
    "print('size: ', b.size)\n",
    "print('dtype: ', b.dtype)\n",
    "print('itemsize: ', b.itemsize)\n",
    "print('data: ', b.data)\n",
    "print('length: ', len(b.tolist()))\n",
    "print('type: ', type(b))\n",
    "print('type(b.tolist()): ', type(b.tolist()))\n",
    "print('type(list(b))', type(list(b)))"
   ]
  },
  {
   "cell_type": "code",
   "execution_count": 449,
   "metadata": {
    "id": "98SRFh_FLwCC",
    "outputId": "dc65dfac-9ae6-49d2-f854-88eccebc2aac"
   },
   "outputs": [
    {
     "name": "stdout",
     "output_type": "stream",
     "text": [
      "ndim:  3\n",
      "shape:  (2, 3, 2)\n",
      "size:  12\n",
      "dtype:  int32\n",
      "itemsize:  4\n",
      "data:  <memory at 0x0000016C59A90D60>\n",
      "length:  2\n",
      "type:  <class 'numpy.ndarray'>\n",
      "type(b.tolist()):  <class 'list'>\n",
      "type(list(c)) <class 'list'>\n"
     ]
    }
   ],
   "source": [
    "c = np.random.randint(10, size=(2,3,2)) \n",
    "\n",
    "'''\n",
    "Your Code\n",
    "'''\n",
    "print('ndim: ', c.ndim)\n",
    "print('shape: ', c.shape)\n",
    "print('size: ', c.size)\n",
    "print('dtype: ', c.dtype)\n",
    "print('itemsize: ', c.itemsize)\n",
    "print('data: ', c.data)\n",
    "print('length: ', len(c.tolist()))\n",
    "print('type: ', type(c))\n",
    "print('type(b.tolist()): ', type(c.tolist()))\n",
    "print('type(list(c))', type(list(c)))"
   ]
  },
  {
   "cell_type": "markdown",
   "metadata": {
    "id": "Uf6zC0QZLwCE"
   },
   "source": [
    "### 3. 如何利用 list(...) 實現 a.tolist() 的效果？試著用程式實作。(難度較高)"
   ]
  },
  {
   "cell_type": "code",
   "execution_count": 450,
   "metadata": {
    "id": "sCUzHu_BLwCF",
    "outputId": "ba9c8945-8efb-42b1-f978-2bbdda97accd"
   },
   "outputs": [
    {
     "name": "stdout",
     "output_type": "stream",
     "text": [
      "[3, 3, 8, 1, 8, 0]\n",
      "[3, 3, 8, 1, 8, 0]\n"
     ]
    }
   ],
   "source": [
    "a = np.random.randint(10, size=6) \n",
    "\n",
    "print(a.tolist())\n",
    "print(list(a))\n"
   ]
  },
  {
   "cell_type": "code",
   "execution_count": 451,
   "metadata": {
    "id": "IUkVtw8RLwCG",
    "outputId": "e39875a5-5ec7-431b-c12a-485acc167e44"
   },
   "outputs": [
    {
     "name": "stdout",
     "output_type": "stream",
     "text": [
      "[[8, 6, 0, 0], [4, 1, 7, 3], [6, 7, 0, 0]]\n",
      "[array([8, 6, 0, 0]), array([4, 1, 7, 3]), array([6, 7, 0, 0])]\n"
     ]
    }
   ],
   "source": [
    "b = np.random.randint(10, size=(3,4)) \n",
    "\n",
    "print(b.tolist())\n",
    "print(list(b))\n"
   ]
  },
  {
   "cell_type": "code",
   "execution_count": 452,
   "metadata": {
    "id": "NPhF8_CqLwCG",
    "outputId": "51fab908-5bfd-415f-9584-92bb376648c8"
   },
   "outputs": [
    {
     "name": "stdout",
     "output_type": "stream",
     "text": [
      "[[[2, 6], [2, 1], [8, 6]], [[3, 9], [6, 4], [0, 0]]]\n",
      "[array([[2, 6],\n",
      "       [2, 1],\n",
      "       [8, 6]]), array([[3, 9],\n",
      "       [6, 4],\n",
      "       [0, 0]])]\n"
     ]
    }
   ],
   "source": [
    "c = np.random.randint(10, size=(2,3,2)) \n",
    "\n",
    "print(c.tolist())\n",
    "print(list(c))\n"
   ]
  },
  {
   "cell_type": "code",
   "execution_count": 453,
   "metadata": {
    "id": "3Hc8vQYtLwCH",
    "outputId": "1290bc93-84ca-4da4-eb1a-315da37afaff"
   },
   "outputs": [
    {
     "name": "stdout",
     "output_type": "stream",
     "text": [
      "[3, 3, 8, 1, 8, 0]\n",
      "[[8, 6, 0, 0], [4, 1, 7, 3], [6, 7, 0, 0]]\n",
      "[[[2, 6], [2, 1], [8, 6]], [[3, 9], [6, 4], [0, 0]]]\n"
     ]
    }
   ],
   "source": [
    "##簡單版\n",
    "\n",
    "def tolist(iterable):\n",
    "    if type(iterable) != np.ndarray:\n",
    "        return iterable\n",
    "    newlist=[]\n",
    "    for obj in iterable:\n",
    "        newlist.append(tolist(obj))\n",
    "    return list(newlist)\n",
    "        \n",
    "    \n",
    "    \n",
    "print(tolist(a))\n",
    "print(tolist(b))\n",
    "print(tolist(c))"
   ]
  },
  {
   "cell_type": "code",
   "execution_count": 454,
   "metadata": {
    "id": "2lDVOwFpLwCJ",
    "outputId": "ddfa84e4-3d32-4a68-c250-f57b2f66d830"
   },
   "outputs": [
    {
     "name": "stdout",
     "output_type": "stream",
     "text": [
      "[3, 3, 8, 1, 8, 0]\n",
      "[[8, 6, 0, 0], [4, 1, 7, 3], [6, 7, 0, 0]]\n",
      "[[[2, 6], [2, 1], [8, 6]], [[3, 9], [6, 4], [0, 0]]]\n"
     ]
    }
   ],
   "source": [
    "##進階版\n",
    "\n",
    "def tolist(iterable):\n",
    "    if type(iterable) != np.ndarray:\n",
    "        return iterable\n",
    "    return [tolist(obj) for obj in iterable]\n",
    "            \n",
    "print(tolist(a))\n",
    "print(tolist(b))\n",
    "print(tolist(c))"
   ]
  },
  {
   "cell_type": "code",
   "execution_count": null,
   "metadata": {
    "id": "tvqCpuFILwCK"
   },
   "outputs": [],
   "source": []
  },
  {
   "cell_type": "code",
   "execution_count": null,
   "metadata": {
    "id": "640whg6NLwCK"
   },
   "outputs": [],
   "source": []
  }
 ],
 "metadata": {
  "colab": {
   "name": "01Homework_維元.ipynb",
   "provenance": []
  },
  "kernelspec": {
   "display_name": "Python 3",
   "language": "python",
   "name": "python3"
  },
  "language_info": {
   "codemirror_mode": {
    "name": "ipython",
    "version": 3
   },
   "file_extension": ".py",
   "mimetype": "text/x-python",
   "name": "python",
   "nbconvert_exporter": "python",
   "pygments_lexer": "ipython3",
   "version": "3.8.5"
  }
 },
 "nbformat": 4,
 "nbformat_minor": 1
}
